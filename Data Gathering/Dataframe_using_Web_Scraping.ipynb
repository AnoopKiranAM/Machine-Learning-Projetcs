{
  "nbformat": 4,
  "nbformat_minor": 0,
  "metadata": {
    "colab": {
      "name": "Dataframe using Web Scraping.ipynb",
      "provenance": []
    },
    "kernelspec": {
      "name": "python3",
      "display_name": "Python 3"
    },
    "language_info": {
      "name": "python"
    }
  },
  "cells": [
    {
      "cell_type": "code",
      "execution_count": 1,
      "metadata": {
        "id": "6U1pvqdzAQjb"
      },
      "outputs": [],
      "source": [
        "import pandas as pd\n",
        "import requests\n",
        "from bs4 import BeautifulSoup\n",
        "import numpy as np"
      ]
    },
    {
      "cell_type": "markdown",
      "source": [
        "## if response code is 403\n",
        "headers={'User-Agent':'Mozilla/5.0 (Windows NT 6.3; Win 64 ; x64) Apple WeKit /537.36(KHTML , like Gecko) Chrome/80.0.3987.162 Safari/537.36'} -requests.get('url',headers=headers).text"
      ],
      "metadata": {
        "id": "I-mFVcqWAajN"
      }
    },
    {
      "cell_type": "code",
      "source": [
        "webpage=requests.get('https://www.ambitionbox.com/list-of-companies?page=1').text"
      ],
      "metadata": {
        "id": "LiRs0d6xAWPc"
      },
      "execution_count": 2,
      "outputs": []
    },
    {
      "cell_type": "code",
      "source": [
        "soup=BeautifulSoup(webpage,'lxml')"
      ],
      "metadata": {
        "id": "k182O_CeAiXH"
      },
      "execution_count": 3,
      "outputs": []
    },
    {
      "cell_type": "code",
      "source": [
        "soup.find_all('h1')[0].text"
      ],
      "metadata": {
        "colab": {
          "base_uri": "https://localhost:8080/",
          "height": 35
        },
        "id": "k3wphrlxAkiU",
        "outputId": "5332adf0-be73-4229-8957-59ae4afcc4b9"
      },
      "execution_count": 4,
      "outputs": [
        {
          "output_type": "execute_result",
          "data": {
            "application/vnd.google.colaboratory.intrinsic+json": {
              "type": "string"
            },
            "text/plain": [
              "'List of companies in India'"
            ]
          },
          "metadata": {},
          "execution_count": 4
        }
      ]
    },
    {
      "cell_type": "markdown",
      "source": [
        "### **TO FIND OUT NAMES OF THE COMPANIES**"
      ],
      "metadata": {
        "id": "64mYHAn0AqKc"
      }
    },
    {
      "cell_type": "code",
      "source": [
        "for i in soup.find_all('h2'):\n",
        "  print(i.text.strip())"
      ],
      "metadata": {
        "colab": {
          "base_uri": "https://localhost:8080/"
        },
        "id": "u34tx_42Amyp",
        "outputId": "131199c2-4912-41ad-c425-efeeef74c0b3"
      },
      "execution_count": 5,
      "outputs": [
        {
          "output_type": "stream",
          "name": "stdout",
          "text": [
            "TCS\n",
            "Accenture\n",
            "Cognizant\n",
            "ICICI Bank\n",
            "HDFC Bank\n",
            "Wipro\n",
            "Capgemini\n",
            "HCL Technologies\n",
            "Infosys\n",
            "Tech Mahindra\n",
            "Genpact\n",
            "Axis Bank\n",
            "Vodafone Idea\n",
            "L&T\n",
            "Reliance jio\n",
            "IBM\n",
            "Concentrix Corpora...\n",
            "Amazon\n",
            "HDB Financial Serv...\n",
            "Kotak Mahindra Ban...\n",
            "Tata Motors\n",
            "Bharti Airtel\n",
            "Teleperformance\n",
            "Reliance Industrie...\n",
            "Deloitte\n",
            "Mahindra & Mahindr...\n",
            "IndusInd Bank\n",
            "Hinduja Global Sol...\n",
            "Samsung\n",
            "WNS\n"
          ]
        }
      ]
    },
    {
      "cell_type": "code",
      "source": [
        "for i in soup.find_all('p'):\n",
        "  print(i.text.strip())"
      ],
      "metadata": {
        "colab": {
          "base_uri": "https://localhost:8080/"
        },
        "id": "7OkPikvIAwmg",
        "outputId": "22d7527c-982c-4e77-cbc7-d9028e985bd6"
      },
      "execution_count": 6,
      "outputs": [
        {
          "output_type": "stream",
          "name": "stdout",
          "text": [
            "AmbitionBox\n",
            "Discover Best Places to Work!\n",
            "Company reviews. Salaries. Interviews. Jobs.\n",
            "About Company\n",
            "578,850 unique\n",
            "\t\t\tcompanies found\n",
            "Sort By:\n",
            "Popular\n",
            "3.9\n",
            "#6 Best Mega Company - 2021\n",
            "Public\n",
            "Mumbai,Maharashtra + 203 more\n",
            "53 years old\n",
            "1 Lakh+ employees (India)\n",
            "We ensure the highest levels of certainty and satisfaction through a deep-set commitment to our clients, comprehensive industry expertise and a global network of innovation and delivery centers.\n",
            "\n",
            "We function as a full stakeholder to business, offering a consulting-led approach with an integrated portfolio of technology led solutions that encompass the entire Enterprise value chain. Our Customer-centric Engagement Model defines how we do engage with you, offering specialized services and solutions that meet the distinct needs of your business.\n",
            "\n",
            "We build bespoke teams around your domain and technology requirements drawn from our talent pool of over 488,649 global professionals including 36.5% women from 154 nationalities. Our domain expertise has been built upon decades of experience working across industries and this knowledge underpins our suite of solutions.\n",
            "\n",
            "Our organization structure is domain led and empowered to help provide Customers a single window to industry specific solutions. Agile industry units have embedded capabilities to enable rapid responses that provide a competitive edge to our Customers. This is coupled with a unique Global Network Delivery Model™ (GNDM™), spanning 40 global locations, that is today recognized as the benchmark of excellence in technology deployment.\n",
            "\n",
            "We have made significant investments in Digital platforms and products spanning Technology Products, Horizontal Platforms and Products, Vertical Platforms and Products.\n",
            "4.0\n",
            "#11 Best Mega Company - 2021\n",
            "Public\n",
            "Dublin,Dublin + 119 more\n",
            "32 years old\n",
            "1 Lakh+ employees (India)\n",
            "Accenture is a leading global professional services company, providing a broad range of services in strategy and consulting, interactive, technology and operations, with digital capabilities across all of these services. We combine unmatched experience and specialized capabilities across more than 40 industries — powered by the world’s largest network of Advanced Technology and Intelligent Operations centers. With 509,000 people serving clients in more than 120 countries, Accenture brings continuous innovation to help clients improve their performance and create lasting value across their enterprises. Visit us at www.accenture.com\n",
            "3.9\n",
            "Private\n",
            "Teaneck,New Jersey + 66 more\n",
            "27 years old\n",
            "1 Lakh+ employees (India)\n",
            "Cognizant (NASDAQ-100: CTSH) is one of the world’s leading professional services companies,\n",
            "transforming clients’ business, operating and technology models for the digital era. Our unique industry-based, consultative approach helps many of the best-known organizations in every industry and geography envision, build and run more innovative and efficient businesses.\n",
            "4.0\n",
            "#10 Best Mega Company - 2021\n",
            "Public\n",
            "Mumbai,Maharashtra + 896 more\n",
            "27 years old\n",
            "50k-1 Lakh employees (India)\n",
            "ICICI Bank is a leading private sector bank in India. The Bank’s consolidated total assets stood at Rs. 14.76 trillion at September 30, 2020.  ICICI Bank currently has a network of 5,288 branches and 13,875 ATMs across India.\n",
            "4.0\n",
            "#9 Best Mega Company - 2021\n",
            "Public\n",
            "Mumbai,Maharashtra + 955 more\n",
            "27 years old\n",
            "1 Lakh+ employees (India)\n",
            "The Housing Development Finance Corporation Limited or HDFC was among the first financial institutions in India to receive an “in principle” approval from the Reserve Bank of India (RBI) to set up a bank in the private sector. This was done as part of RBI’s policy for the liberalization of the Indian banking industry in 1994.\n",
            "\n",
            "HDFC Bank was incorporated in August 1994 in the name of HDFC Bank Limited, with its registered office in Mumbai, India. The bank commenced operations as a Scheduled Commercial Bank in January 1995. As of March 31, 2021, the Bank had a nationwide distribution network of 5,608 branches and 16,087 ATMs in 2,902 cities/towns.\n",
            "3.8\n",
            "#14 Best Mega Company - 2021\n",
            "Public\n",
            "Bangalore/Bengaluru,Karnataka + 217 more\n",
            "76 years old\n",
            "1 Lakh+ employees (India)\n",
            "Wipro Limited (NYSE: WIT, BSE: 507685, NSE: WIPRO) is a leading global information technology, consulting and business process services company. We harness the power of cognitive computing, hyper-automation, robotics, cloud, analytics and emerging technologies to help our clients adapt to the digital world and make them successful. A company recognized globally for its comprehensive portfolio of services, a strong commitment to sustainability and good corporate citizenship, we have over 160,000 dedicated employees serving clients across six continents. Together, we discover ideas and connect the dots to build a better and a bold new future.\n",
            "3.7\n",
            "Public\n",
            "Paris + 58 more\n",
            "54 years old\n",
            "1 Lakh+ employees (India)\n",
            "Capgemini is a global leader in consulting, digital transformation, technology and engineering services. The Group is at the forefront of innovation to address the entire breadth of clients’ opportunities in the evolving world of cloud, digital and platforms. Building on its strong 50-year+ heritage and deep industry-specific expertise, Capgemini enables organizations to realize their business ambitions through an array of services from strategy to operations. Capgemini is driven by the conviction that the business value of technology comes from and through people. Today, it is a multicultural company of 270,000 team members in almost 50 countries. With Altran, the Group reported 2019 combined revenues of €17billion.\n",
            "3.8\n",
            "#13 Best Mega Company - 2021\n",
            "Public\n",
            "Noida,Uttar Pradesh + 135 more\n",
            "45 years old\n",
            "1 Lakh+ employees (India)\n",
            "HCL Technologies is a next-generation global technology company that helps enterprises reimagine their businesses for the digital age. Our technology products and services are built on four decades of innovation, with a world-renowned management philosophy, a strong culture of invention and risk-taking, and a relentless focus on customer relationships. HCL also takes pride in its many diversity, social responsibility, sustainability, and education initiatives. Through its worldwide network of R&D facilities and co-innovation labs, global delivery capabilities, and over 168,000+ ‘Ideapreneurs’ across 50 countries, HCL delivers holistic services across industry verticals to leading enterprises, including 250 of the Fortune 500 and 650 of the Global 2000.\n",
            "\n",
            "Enterprises across industries stand at an inflection point today. In order to thrive in the digital age, technologies such as analytics, cloud, IoT, and automation occupy center stage. In order to offer enterprises the maximum benefit of these technologies to further their business objectives, HCL offers an integrated portfolio of products and services through three business units. These are IT and Business Services (ITBS), Engineering and R&D Services (ERS), and Products and Platforms (P&P).\n",
            "\n",
            "ITBS enables global enterprises to transform their businesses via Digital Foundation, our modernized infrastructure stack built around hybrid cloud, software-defined networks, the digital workplace, and other elements; Digital Business, a combination of our application services and consulting capabilities; and Digital Operations, a three-pronged setup for modernized and efficient operations at enterprise level.\n",
            "\n",
            "ERS offers engineering services and solutions in all aspects of product development and platform engineering.\n",
            "\n",
            "Under P&P, HCL provides modernized software products to global clients for their technological and industry-specific requirements.\n",
            "\n",
            "Our holistic Mode 1-2-3 strategy forms the backbone of these three business units to help enterprises navigate the digital age with ease. It is the core aspect of our ‘Digital Enterprise 4.0’ focus – aimed at offering holistic services to our clients to meet the technology needs of their present while readying them to be future-ready.\n",
            "\n",
            "The company’s DNA of grassroots innovation, its ingrained culture of co-innovation, and its tradition of going far beyond what is expected, to create customer value, clearly differentiates it and gives it a distinct advantage in creating value for businesses in the digital and connected world.\n",
            "3.9\n",
            "#12 Best Mega Company - 2021\n",
            "Public\n",
            "Bangalore/Bengaluru,Karnataka + 95 more\n",
            "40 years old\n",
            "1 Lakh+ employees (India)\n",
            "Infosys is a global leader in next-generation digital services and consulting. We enable clients in 45 countries to navigate their digital transformation. With over three decades of experience in managing the systems and workings of global enterprises, we expertly steer our clients through the many nexts of their digital journey. We do it by enabling the enterprise with an AI-powered core that helps prioritize the execution of change. We also empower the business with agile digital at scale to deliver unprecedented levels of performance and customer delight. Our always-on learning agenda drives their continuous improvement through building and transferring digital skills, expertise and ideas from our innovation ecosystem.\n",
            "3.6\n",
            "Public\n",
            "Pune,Maharashtra + 133 more\n",
            "35 years old\n",
            "50k-1 Lakh employees (India)\n",
            "A federation of companies, bound by one purpose – to Rise. Inspired by this spirit, our legacy and values, our goal to always positively impact our partners, stakeholders, communities and the world at large, remains unshakeable\n",
            "4.0\n",
            "#8 Best Mega Company - 2021\n",
            "Private\n",
            "New York,New York + 49 more\n",
            "24 years old\n",
            "50k-1 Lakh employees (India)\n",
            "Genpact (NYSE: G) is a global professional services firm that makes business transformation real. We drive digital-led innovation and digitally-enabled intelligent operations for our clients, guided by our experience running thousands of processes primarily for Global Fortune 500 companies. We think with design, dream in digital, and solve problems with data and analytics. Combining our expertise in end-to-end operations and our AI-based platform, Genpact Cora, we focus on the details – all 87,000+ of us. From New York to New Delhi and more than 25 countries in between, we connect every dot, reimagine every process, and reinvent companies’ ways of working. We know that reimagining each step from start to finish will create better business outcomes. Whatever it is, we’ll be there with you – accelerating digital transformation to create bold, lasting results – because transformation happens here.\n",
            "\n",
            "Genpact began in 1997 as a business unit within General Electric. In January 2005, Genpact became an independent company to bring our process expertise and unique DNA in Lean management to clients beyond GE, and then in August 2007, we became a publicly-traded company. Bain Capital became Genpact’s largest shareholder in November 2012, with the strategic objective to grow the company further. Since December 31, 2005, we have expanded from 19,000+ employees and annual revenues of US$491.90 million to 87,000+ employees and annual revenues of US$3.00 billion as of December 31, 2018.\n",
            "3.8\n",
            "#15 Best Mega Company - 2021\n",
            "Public\n",
            "Mumbai,Maharashtra + 868 more\n",
            "28 years old\n",
            "50k-1 Lakh employees (India)\n",
            "Axis Bank is the third largest private sector bank in India. The Bank offers the entire spectrum of financial services to customer segments covering Large and Mid-Corporates, MSME, Agriculture and Retail Businesses.\n",
            "\n",
            "The Bank has a large footprint of 4,050 domestic branches (including extension counters) with 11,801 ATMs & 4,917 cash recyclers spread across the country as on 31st March, 2019. The overseas operations of the Bank are spread over nine international offices with branches at Singapore, Hong Kong, Dubai (at the DIFC), Colombo and Shanghai; representative offices at Dhaka, Dubai, Abu Dhabi and an overseas subsidiary at London, UK. The international offices focus on corporate lending, trade finance, syndication, investment banking and liability businesses.\n",
            "4.2\n",
            "Public\n",
            "Gandhinagar,Gujrat + 504 more\n",
            "3 years old\n",
            "10k-50k employees (India)\n",
            "Vodafone Idea Limited is an Aditya Birla Group and Vodafone Group partnership. It is India’s leading telecom service provider. The Company provides pan India Voice and Data services across 2G, 3G and 4G platform. With the large spectrum portfolio to support the growing demand for data and voice, the company is committed to deliver delightful customer experiences and contribute towards creating a truly ‘Digital India’ by enabling millions of citizens to connect and build a better tomorrow. The Company is developing infrastructure to introduce newer and smarter technologies, making both retail and enterprise customers future ready with innovative offerings, conveniently accessible through an ecosystem of digital channels as well as extensive on-ground presence. The Company is listed on National Stock Exchange (NSE) and Bombay Stock Exchange (BSE) in India.\n",
            "4.0\n",
            "Public\n",
            "Mumbai,Maharashtra + 431 more\n",
            "83 years old\n",
            "10k-50k employees (India)\n",
            "Larsen & Toubro is a major technology, engineering, construction, manufacturing and financial services conglomerate, with global operations. L&T addresses critical needs in key sectors - Hydrocarbon, Infrastructure, Power, Process Industries and Defence - for customers in over 30 countries around the world.\n",
            "L&T is engaged in core, high impact sectors of the economy and our integrated capabilities span the entire spectrum of ‘design to deliver’. With 8 decades of a strong, customer focused approach and a continuous quest for world-class quality, we have unmatched expertise across Technology, Engineering, Construction, Infrastructure Projects and Manufacturing, and maintain a leadership in all our major lines of business.\n",
            "Every aspect of L&T's businesses is characterised by professionalism and high standards of corporate governance. Sustainability is embedded into our long-term strategy for growth.\n",
            "4.0\n",
            "Public\n",
            "Navi Mumbai,Maharashtra + 783 more\n",
            "14 years old\n",
            "10k-50k employees (India)\n",
            "Make a new start. A start that will build beautiful relationships, shape millions of ideas. Enable a new way to live, learn, work and play.\n",
            "\n",
            "At Jio, we build products and services of the future to empower billions of Indians make their dreams a reality.\n",
            "\n",
            "Jio is about YOU. Join the movement to make India Digital.\n",
            "4.1\n",
            "#5 Best Mega Company - 2021\n",
            "Public\n",
            "New York + 95 more\n",
            "110 years old\n",
            "50k-1 Lakh employees (India)\n",
            "IBMers believe in progress—that the application of intelligence, reason and science can improve business, society and the human condition\n",
            "\n",
            "IBM has developed a thoughtful, comprehensive approach to corporate citizenship that we believe aligns with IBM’s values and maximised the impact we can make as a global enterprise. We focus on specific societal issues, including the environment, community economic development, education and skills, public health, literacy, language and culture.\n",
            "\n",
            "The mission of India CSR is to foster life-long learning opportunities across India through streamlined initiatives that cut pathways across education [access], skills/employability [inclusion], and employment [equity and quality].\n",
            "\n",
            "IBM’s greatest asset is the IBMer. We believe our strength lies in the diversity of our employees. IBM encourages creative pursuits and passions outside of work, because when IBMers can explore their curiosity, it gives all of us a new outlook on the world and its possibilities for emerging tech. Together, IBM can drive progress through meaningful innovation and action.\n",
            "\n",
            "The new generation of hybrid cloud enables you to build once, deploy anywhere and manage it all from a single pane of glass. So your business can adapt and transform like never before.\n",
            "4.1\n",
            "#4 Best Mega Company - 2021\n",
            "Public\n",
            "Fremont,California + 51 more\n",
            "38 years old\n",
            "10k-50k employees (India)\n",
            "Concentrix is a technology-enabled global business services company specializing in customer engagement and improving business performance. We partner with ambitious, progressive executives around the world to future-proof their business and stay ahead of the competition and customer expectations.It’s all about tapping into sentiment and building an emotional connection that keeps customers and staff fanatical about your brand. That’s where we come in—we create exceptional customer engagement, accelerate digital transformation, and deliver actionable CX insights.\n",
            "4.2\n",
            "#1 Best Mega Company - 2021\n",
            "Private\n",
            "Seattle,Washington + 269 more\n",
            "17 years old\n",
            "10k-50k employees (India)\n",
            "Amazon is guided by four principles: customer obsession rather than competitor focus, passion for invention, commitment to operational excellence, and long-term thinking. We are driven by the excitement of building technologies, inventing products, and providing services that change lives. We embrace new ways of doing things, make decisions quickly, and are not afraid to fail. We have the scope and capabilities of a large company, and the spirit and heart of a small one.Together, Amazonians research and develop new technologies from Amazon Web Services to Alexa on behalf of our customers: shoppers, sellers, content creators, and developers around the world.Our mission is to be Earth's most customer-centric company. Our actions, goals, projects, programs, and inventions begin and end with the customer top of mind.You'll also hear us say that at Amazon, it's always \"Day 1.\"​ What do we mean? That our approach remains the same as it was on Amazon's very first day - to make smart, fast decisions, stay nimble, invent, and focus on delighting our customers.\n",
            "4.0\n",
            "#1 Best Mega Financial Services Company - 2021\n",
            "Private\n",
            "Ahmedabad,Gujrat + 621 more\n",
            "14 years old\n",
            "1 Lakh+ employees (India)\n",
            "HDB Financial Services (HDBFS) is a leading Non-Banking Financial Company (NBFC) that caters to the growing needs of an Aspirational India, serving both Individual & Business Clients.\n",
            "\n",
            "Incorporated in 2007, we are a well-established business with strong capitalization. HDBFS is accredited with CARE AAA & CRISIL AAA ratings for its long-term debt & Bank facilities and an A1+ rating for its short-term debt & commercial papers, making it a strong and reliable financial institution.\n",
            "\n",
            "HDBFS maintains a strong commitment to ethical conduct. Transparency is ingrained in the structure of our Code of Ethics and our compliance policies to ensure that the highest standards of professional conduct are consistently reinforced and embedded in every corner of the organisation.\n",
            "3.8\n",
            "Public\n",
            "Mumbai,Maharashtra + 406 more\n",
            "18 years old\n",
            "10k-50k employees (India)\n",
            "In February 2003, Kotak Mahindra Finance Ltd. (KMFL), the Group's flagship company, received banking license from the Reserve Bank of India (RBI), becoming the first non-banking finance company in India to convert into a bank - Kotak Mahindra Bank Ltd.\n",
            "Effective April 1, 2015, ING Vysya Bank Ltd. merged with Kotak Mahindra Bank Ltd. \n",
            "The Bank has four Strategic Business Units – Consumer Banking, Corporate Banking, Commercial Banking and Treasury, which cater to retail and corporate customers across urban and rural India.\n",
            "\n",
            "The Group offers a wide range of financial services that encompass every sphere of life. From commercial banking, to stock broking, mutual funds, life insurance and investment banking, the Group caters to the diverse financial needs of individuals and the corporate sector. The Group has a wide distribution network through branches and franchisees across India, and international offices in London, New York, California, Dubai, Abu Dhabi, Bahrain, Mauritius and Singapore.\n",
            "4.1\n",
            "#2 Best Mega Company - 2021\n",
            "Public\n",
            "Pune,Maharashtra + 344 more\n",
            "76 years old\n",
            "50k-1 Lakh employees (India)\n",
            "Tata Motors Group (Tata Motors) is a $35 billion organisation. It is a leading global automobile manufacturing company. Its diverse portfolio includes an extensive range of cars, sports utility vehicles, trucks, buses and defence vehicles. Tata Motors is one of India's largest OEMs offering an extensive range of integrated, smart and e-mobility solutions\n",
            "4.1\n",
            "Public\n",
            "Gurgaon/Gurugram,Haryana + 411 more\n",
            "26 years old\n",
            "5k-10k employees (India)\n",
            "Bharti Airtel Limited is a leading global telecommunications company with operations in 18 countries across Asia and Africa. Headquartered in New Delhi, the company's product offerings include 2G, 3G and 4G wireless services, mobile commerce, fixed line services, high speed home broadband, DTH, enterprise services including national & international long distance services to carriers. In the rest of the geographies, it offers 2G, 3G, 4G wireless services and mobile commerce. Bharti Airtel has over 403 million customers across its operations.\n",
            "3.6\n",
            "Private\n",
            "Paris + 87 more\n",
            "43 years old\n",
            "50k-1 Lakh employees (India)\n",
            "Teleperformance is the agile business services partner that companies need in this digital world.\n",
            "For over 40 years, Teleperformance has been connecting customers with the world’s most successful companies. It is the global leader in customer experience outsourcing management and the trusted provider of digitally integrated business services.\n",
            "At Teleperformance, we combine human touch and high technology to deliver extraordinary customer experiences. While technology creates new and agile ways of working, our interaction experts remain committed to creating unique connections through empathy, adaptive communication skills, and more importantly, a passion to make it happen.\n",
            "4.0\n",
            "#6 Best Mega Company - 2021\n",
            "Public\n",
            "Navi Mumbai,Maharashtra + 321 more\n",
            "48 years old\n",
            "1 Lakh+ employees (India)\n",
            "RIL is India’s largest private sector company, with a consolidated turnover of Rs.659,205 crore ($87.1 billion), cash profit of Rs.71,446 crores ($9.4 billion), and net profit of Rs39,880 crore ($5.3 billion) for the year ended March 31, 2020.\n",
            "RIL’s activities span hydrocarbon exploration and production, petroleum refining and marketing, petrochemicals, retail and digital services. RIL is the top-most ranked company from India to feature in Fortune’s Global 500 list of ‘World’s Largest Companies’ – currently ranking 96th. The company stands 58th in the ‘Forbes Global 2000’ rankings for 2020 – top-most among Indian companies. RIL has also featured in Forbes' list of \"World's Best Employers 2020” and has ranked 81st. It ranks 10th among LinkedIn’s ‘The Best Companies to Work for In India’ (2019).  RIL is also a GPTWTM Certified organisation and features as a part of the GPTW “Best Workplaces in Manufacturing 2021” list.\n",
            "3.9\n",
            "Private\n",
            "New York,New York + 95 more\n",
            "176 years old\n",
            "10k-50k employees (India)\n",
            "Deloitte drives progress. Our firms around the world help clients become leaders wherever they choose to compete. Deloitte invests in outstanding people of diverse talents and backgrounds and empowers them to achieve more than they could elsewhere. Our work combines advice with action and integrity. We believe that when our clients and society are stronger, so are we. \n",
            "\n",
            "Deloitte refers to one or more of Deloitte Touche Tohmatsu Limited (“DTTL”), its global network of member firms, and their related entities. DTTL (also referred to as “Deloitte Global”) and each of its member firms are legally separate and independent entities. DTTL does not provide services to clients.\n",
            "4.2\n",
            "#14 Best Large Company - 2021\n",
            "Public\n",
            "Mumbai,Maharashtra + 337 more\n",
            "76 years old\n",
            "10k-50k employees (India)\n",
            "A federation of companies, bound by one purpose – to Rise. Inspired by this spirit, our legacy, and values, our goal to always positively impact our partners, stakeholders, communities, and the world at large, remains unshakeable.\n",
            "\n",
            "What began as a steel-trading venture seven decades ago, steadily turned into a global brand, spanning nations and industries. This is a story with an upward curve, narrating how an Indian company paved its way to become a global powerhouse. We have come a long way since 1945 and as we accelerate into the 21st century, we aim at achieving even more.\n",
            "3.7\n",
            "Public\n",
            "Gurgaon/Gurugram,Haryana + 458 more\n",
            "27 years old\n",
            "10k-50k employees (Global)\n",
            "IndusInd Bank is a Mumbai based scheduled private bank founded in Mumbai in April 1994. This bank offers a wide range of banking as well as financial products and services to the customers and is headquartered in Mumbai, Maharashtra. The bank has over 745 branches with a total network of over 1635 operating ATMs. It has two representative offices outside India in London and Dubai respectively.\n",
            "IndusInd Bank stands tall today as one of the reputed banking brands in the country. The bank has been continuously investing in various advertising & marketing programs to enhance the brand image & recall. In an endeavor to emerge as best-in-class brand, IndusInd Bank has made 'Responsive Innovation' as a central theme of its brand building program. The Bank has combined responsiveness with innovation to launch a wide range of banking products and services which are unique, convenient and very relevant to Indian consumer.\n",
            "3.9\n",
            "Public\n",
            "Bangalore/Bengaluru,Karnataka + 63 more\n",
            "21 years old\n",
            "10k-50k employees (India)\n",
            "A global leader in optimizing the customer experience lifecycle, digital transformation, and business process management, HGS is helping its clients become more competitive every day. HGS combines automation, analytics, and artificial intelligence with deep domain expertise focusing on digital customer experiences, back-office processing, contact centers, and HRO solutions. Part of the multi-billion dollar conglomerate Hinduja Group, HGS takes a “globally local” approach, with over 46,698 employees across 52 delivery centers in seven countries, making a difference to some of the world’s leading brands across nine key verticals. For the year ended March 31, 2021, HGS had revenues of Rs. 55,889 million (US$ 753.9 million).\n",
            "\n",
            "Visit https://hgs.cx to learn how HGS transforms customer experiences and builds business for the future.\n",
            "4.2\n",
            "#2 Best Mega Company - 2021\n",
            "Private\n",
            "Suwon-Si,Gyeonggi-Do + 376 more\n",
            "83 years old\n",
            "50k-1 Lakh employees (India)\n",
            "Samsung Electronics is a global leader in technology, opening new possibilities for people everywhere. Through relentless innovation and discovery, we are transforming the worlds of TVs, smartphones, wearable devices, tablets, digital appliances, network systems, medical devices, semiconductors and LED solutions. Samsung is also leading in the Internet of Things space through, among others, our Smart Home and Digital Health initiatives. \n",
            "\n",
            "Since being established in 1969, Samsung Electronics has grown into one of the world’s leading technology companies, and become recognized as one of the top 10 global brands. Our network now extends across the world, and Samsung takes great pride in the creativity and diversity of its talented people, who drive our growth.  To discover more, please visit our website at www.samsung.com and our official newsroom at news.samsung.com\n",
            "3.7\n",
            "Private\n",
            "Mumbai,Maharashtra + 18 more\n",
            "25 years old\n",
            "10k-50k employees (Global)\n",
            "WNS (Holdings) Limited (NYSE: WNS), is a leading Business Process Management (BPM) company. We combine our deep industry knowledge with technology and analytics expertise to co-create innovative, digital-led transformational solutions with clients across 10 industries. We enable businesses in Travel, Insurance, Banking and Financial Services, Manufacturing, Retail and Consumer Packaged Goods, Shipping and Logistics, Healthcare, and Utilities to re-imagine their digital future and transform their outcomes with operational excellence.\n",
            "We deliver an entire spectrum of BPM services in finance and accounting, procurement, customer interaction services and human resources leveraging collaborative models that are tailored to address the unique business challenges of each client. We co-create and execute the future vision of 350+ clients with the help of our 41,000+ employees. Our global footprint spans 16 countries with 60 delivery centers worldwide including in China, Costa Rica, India, the Philippines, Poland, Romania, South Africa, Spain, Sri Lanka, Turkey, United Kingdom and the United States.\n",
            "Helping over\n",
            "\t\t\t\t\t\t55 Lakh job seekers\n",
            "\t\t\t\t\t\tevery month in choosing their right fit company\n",
            "Reviews\n",
            "Salaries\n",
            "Interviews\n",
            "Users/Month\n",
            "About Company\n",
            "Made with ❤️ in India. Trademarks belong to their respective owners. All\n",
            "\t\t\t\t\trights reserved © 2021 Info Edge (India) Ltd.\n"
          ]
        }
      ]
    },
    {
      "cell_type": "markdown",
      "source": [
        "## TO FIND OUT RATINGS"
      ],
      "metadata": {
        "id": "_4w7i2jwA33c"
      }
    },
    {
      "cell_type": "code",
      "source": [
        "len(soup.find_all('p',class_='rating'))"
      ],
      "metadata": {
        "colab": {
          "base_uri": "https://localhost:8080/"
        },
        "id": "RcAlnJOoAzMx",
        "outputId": "7e53dca0-0f7a-40c3-e2bd-74364d05bec6"
      },
      "execution_count": 7,
      "outputs": [
        {
          "output_type": "execute_result",
          "data": {
            "text/plain": [
              "30"
            ]
          },
          "metadata": {},
          "execution_count": 7
        }
      ]
    },
    {
      "cell_type": "markdown",
      "source": [
        "### **TO FIND OF NUMBER OF REVIEWS**"
      ],
      "metadata": {
        "id": "ySzNTgMFBBbN"
      }
    },
    {
      "cell_type": "code",
      "source": [
        "len(soup.find_all('a' , class_='review-count'))"
      ],
      "metadata": {
        "colab": {
          "base_uri": "https://localhost:8080/"
        },
        "id": "EM5aJ7wQA9LZ",
        "outputId": "ed38af09-4df5-4e66-bada-3d02fddf7b85"
      },
      "execution_count": 8,
      "outputs": [
        {
          "output_type": "execute_result",
          "data": {
            "text/plain": [
              "30"
            ]
          },
          "metadata": {},
          "execution_count": 8
        }
      ]
    },
    {
      "cell_type": "markdown",
      "source": [
        "### **CONSIDERING THE WHOLE CONTAINER**"
      ],
      "metadata": {
        "id": "pPaI7zOzBKa8"
      }
    },
    {
      "cell_type": "code",
      "source": [
        "company=soup.find_all('div',class_='company-content-wrapper')"
      ],
      "metadata": {
        "id": "-2L7c7AKBHVH"
      },
      "execution_count": 9,
      "outputs": []
    },
    {
      "cell_type": "code",
      "source": [
        "len(company) "
      ],
      "metadata": {
        "colab": {
          "base_uri": "https://localhost:8080/"
        },
        "id": "BAShCuk-BOXL",
        "outputId": "0eb4daeb-8b60-49dd-e0f8-65a7a9615b5b"
      },
      "execution_count": 10,
      "outputs": [
        {
          "output_type": "execute_result",
          "data": {
            "text/plain": [
              "30"
            ]
          },
          "metadata": {},
          "execution_count": 10
        }
      ]
    },
    {
      "cell_type": "code",
      "source": [
        "name=[]\n",
        "rating=[]\n",
        "reviews=[]\n",
        "ctype=[]\n",
        "hq=[]\n",
        "how_old=[]\n",
        "no_of_employee=[]\n",
        "\n",
        "for i in company:\n",
        "\n",
        "  name.append(i.find('h2').text.strip())\n",
        "  rating.append(i.find('p',class_='rating').text.strip())\n",
        "  reviews.append(i.find('a' , class_='review-count').text.strip())\n",
        "  ctype.append(i.find_all('p',class_='infoEntity')[0].text.strip())\n",
        "  hq.append(i.find_all('p',class_='infoEntity')[1].text.strip())\n",
        "  how_old.append(i.find_all('p',class_='infoEntity')[2].text.strip())\n",
        "  no_of_employee.append(i.find_all('p',class_='infoEntity')[3].text.strip())\n",
        "\n",
        "df=pd.DataFrame({'name':name,\n",
        "   'rating':rating,\n",
        "   'reviews':reviews,\n",
        "   'company_type':ctype,\n",
        "   'Head_Quarters':hq,\n",
        "   'Company_Age':how_old,\n",
        "   'No_of_Employee':no_of_employee,\n",
        "   })\n",
        "  "
      ],
      "metadata": {
        "id": "t6-pSrD2BQST"
      },
      "execution_count": 11,
      "outputs": []
    },
    {
      "cell_type": "code",
      "source": [
        "name"
      ],
      "metadata": {
        "colab": {
          "base_uri": "https://localhost:8080/"
        },
        "id": "0hVzcHc2BTRk",
        "outputId": "2f4a58ab-2182-4399-aacc-a04e55c029fe"
      },
      "execution_count": 12,
      "outputs": [
        {
          "output_type": "execute_result",
          "data": {
            "text/plain": [
              "['TCS',\n",
              " 'Accenture',\n",
              " 'Cognizant',\n",
              " 'ICICI Bank',\n",
              " 'HDFC Bank',\n",
              " 'Wipro',\n",
              " 'Capgemini',\n",
              " 'HCL Technologies',\n",
              " 'Infosys',\n",
              " 'Tech Mahindra',\n",
              " 'Genpact',\n",
              " 'Axis Bank',\n",
              " 'Vodafone Idea',\n",
              " 'L&T',\n",
              " 'Reliance jio',\n",
              " 'IBM',\n",
              " 'Concentrix Corpora...',\n",
              " 'Amazon',\n",
              " 'HDB Financial Serv...',\n",
              " 'Kotak Mahindra Ban...',\n",
              " 'Tata Motors',\n",
              " 'Bharti Airtel',\n",
              " 'Teleperformance',\n",
              " 'Reliance Industrie...',\n",
              " 'Deloitte',\n",
              " 'Mahindra & Mahindr...',\n",
              " 'IndusInd Bank',\n",
              " 'Hinduja Global Sol...',\n",
              " 'Samsung',\n",
              " 'WNS']"
            ]
          },
          "metadata": {},
          "execution_count": 12
        }
      ]
    },
    {
      "cell_type": "code",
      "source": [
        "rating"
      ],
      "metadata": {
        "colab": {
          "base_uri": "https://localhost:8080/"
        },
        "id": "zI0pe6oPBVVG",
        "outputId": "8f028735-9df3-4588-c703-55741eec5d08"
      },
      "execution_count": 13,
      "outputs": [
        {
          "output_type": "execute_result",
          "data": {
            "text/plain": [
              "['3.9',\n",
              " '4.0',\n",
              " '3.9',\n",
              " '4.0',\n",
              " '4.0',\n",
              " '3.8',\n",
              " '3.7',\n",
              " '3.8',\n",
              " '3.9',\n",
              " '3.6',\n",
              " '4.0',\n",
              " '3.8',\n",
              " '4.2',\n",
              " '4.0',\n",
              " '4.0',\n",
              " '4.1',\n",
              " '4.1',\n",
              " '4.2',\n",
              " '4.0',\n",
              " '3.8',\n",
              " '4.1',\n",
              " '4.1',\n",
              " '3.6',\n",
              " '4.0',\n",
              " '3.9',\n",
              " '4.2',\n",
              " '3.7',\n",
              " '3.9',\n",
              " '4.2',\n",
              " '3.7']"
            ]
          },
          "metadata": {},
          "execution_count": 13
        }
      ]
    },
    {
      "cell_type": "code",
      "source": [
        "df.shape"
      ],
      "metadata": {
        "colab": {
          "base_uri": "https://localhost:8080/"
        },
        "id": "Day8z1VmBYms",
        "outputId": "ff2502a7-b5c2-4320-bf35-108b1d1fd924"
      },
      "execution_count": 14,
      "outputs": [
        {
          "output_type": "execute_result",
          "data": {
            "text/plain": [
              "(30, 7)"
            ]
          },
          "metadata": {},
          "execution_count": 14
        }
      ]
    },
    {
      "cell_type": "markdown",
      "source": [
        "## creating dataframe for all the pages"
      ],
      "metadata": {
        "id": "mUABIXNRBeO4"
      }
    },
    {
      "cell_type": "code",
      "source": [
        "final=pd.DataFrame()\n",
        "for j in range(1,1001):\n",
        "  webpage=requests.get('https://www.ambitionbox.com/list-of-companies?page={}'.format(j)).text\n",
        "  soup=BeautifulSoup(webpage,'lxml')\n",
        "  company=soup.find_all('div',class_='company-content-wrapper')\n",
        "  name=[]\n",
        "  rating=[]\n",
        "  reviews=[]\n",
        "  ctype=[]\n",
        "  hq=[]\n",
        "  how_old=[]\n",
        "  no_of_employee=[]\n",
        "\n",
        "  for i in company:\n",
        "\n",
        "    try:\n",
        "       name.append(i.find('h2').text.strip())\n",
        "    except:\n",
        "       name.append(np.nan)\n",
        "\n",
        "    try:\n",
        "       rating.append(i.find('p',class_='rating').text.strip())\n",
        "    except:\n",
        "       rating.append(np.nan)\n",
        "   \n",
        "    try:\n",
        "\n",
        "      reviews.append(i.find('a' , class_='review-count').text.strip())\n",
        "    except:\n",
        "      reviews.append(np.nan)\n",
        "\n",
        "    try:\n",
        "\n",
        "      ctype.append(i.find_all('p',class_='infoEntity')[0].text.strip())\n",
        "    except:\n",
        "      ctype.append(np.nan)\n",
        "    try:\n",
        "\n",
        "      hq.append(i.find_all('p',class_='infoEntity')[1].text.strip())\n",
        "    except:\n",
        "      hq.append(np.nan)\n",
        "    \n",
        "    try:\n",
        "\n",
        "      how_old.append(i.find_all('p',class_='infoEntity')[2].text.strip())\n",
        "    except:\n",
        "      how_old.append(np.nan)\n",
        "    try:\n",
        "      no_of_employee.append(i.find_all('p',class_='infoEntity')[3].text.strip())\n",
        "    except:\n",
        "      no_of_employee.append(np.nan)\n",
        "    \n",
        "\n",
        "  df=pd.DataFrame({'name':name,\n",
        "    'rating':rating,\n",
        "    'reviews':reviews,\n",
        "    'company_type':ctype,\n",
        "    'Head_Quarters':hq,\n",
        "    'Company_Age':how_old,\n",
        "    'No_of_Employee':no_of_employee,\n",
        "    })\n",
        "  \n",
        "  final=final.append(df,ignore_index=True)"
      ],
      "metadata": {
        "id": "vEW4dQi1BcDV"
      },
      "execution_count": null,
      "outputs": []
    },
    {
      "cell_type": "code",
      "source": [
        "df.sample(5)"
      ],
      "metadata": {
        "id": "nFoH4yNOBjwL"
      },
      "execution_count": null,
      "outputs": []
    },
    {
      "cell_type": "code",
      "source": [
        "df.shape"
      ],
      "metadata": {
        "id": "E8kFTU4JBny6"
      },
      "execution_count": null,
      "outputs": []
    },
    {
      "cell_type": "code",
      "source": [
        "final.shape"
      ],
      "metadata": {
        "id": "K5xhNbp3Bomd"
      },
      "execution_count": null,
      "outputs": []
    },
    {
      "cell_type": "code",
      "source": [
        ""
      ],
      "metadata": {
        "id": "Jv0nG-YzBqQP"
      },
      "execution_count": null,
      "outputs": []
    }
  ]
}